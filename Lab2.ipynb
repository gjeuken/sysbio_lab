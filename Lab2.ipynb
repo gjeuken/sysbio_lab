{
 "cells": [
  {
   "cell_type": "markdown",
   "metadata": {},
   "source": [
    "# Enrichment analysys\n",
    "### Over representation analysis\n",
    "* Simplified ilustrative example\n",
    "* Followed by real case\n",
    "### GSEA\n",
    "* Practical using python package\n",
    "\n",
    "# Supervised machine learning\n",
    "### Linear regression\n",
    "### Logistic regression\n",
    "### SVM\n",
    "### Overfitting and Bias vs Variance -> Cross validation\n",
    "### Dimentionality of the input -> PCA\n",
    "\n",
    "# Unsupervised machine learning\n",
    "### K-means clustering\n",
    "* Using TCGA data, HR+/-"
   ]
  },
  {
   "cell_type": "code",
   "execution_count": 1,
   "metadata": {},
   "outputs": [],
   "source": [
    "import numpy as np\n",
    "import scipy as sp\n",
    "import pandas as pd\n",
    "import matplotlib.pyplot as plt\n",
    "import seaborn as sns\n",
    "import sklearn as skl\n",
    "import gseapy as gp\n",
    "import qvalue\n",
    "\n",
    "from ipywidgets import interact, interact_manual\n",
    "from ipywidgets import IntSlider, FloatSlider, Dropdown, Text\n",
    "\n",
    "interact_enrich=interact_manual.options(manual_name=\"Enrichment analysis\")\n",
    "interact_plot=interact_manual.options(manual_name=\"Plot\")\n",
    "interact_calc=interact_manual.options(manual_name=\"Calculate tests\")"
   ]
  },
  {
   "cell_type": "code",
   "execution_count": 2,
   "metadata": {},
   "outputs": [],
   "source": [
    "clinical_data = pd.read_csv('data/brca_clin.tsv.gz', sep ='\\t', index_col=2)\n",
    "clinical_data = clinical_data.iloc[4:,1:]\n",
    "expression_data = pd.read_csv('data/brca.tsv.gz', sep ='\\t', index_col=1)\n",
    "expression_data = expression_data.iloc[:,2:].T"
   ]
  },
  {
   "cell_type": "code",
   "execution_count": 3,
   "metadata": {},
   "outputs": [],
   "source": [
    "def differential_test(clinical_df, expression_df, separator, cond1, cond2):\n",
    "    p_vals = pd.DataFrame(columns = ['p'])\n",
    "    for gene in expression_df.columns:\n",
    "        try:\n",
    "            expression = expression_df[gene]\n",
    "        except:\n",
    "            print('Gene not found in data')\n",
    "        try:\n",
    "            group1 = clinical_df[separator] == cond1\n",
    "            index1 = clinical_df[group1].index\n",
    "            group2 = clinical_df[separator] == cond2\n",
    "            index2 = clinical_df[group2].index\n",
    "        except:\n",
    "            print('Clinical condition wrong')\n",
    "        expression1 = expression[index1].dropna()\n",
    "        expression2 = expression[index2].dropna()\n",
    "        p_val = sp.stats.ttest_ind(expression1, expression2).pvalue\n",
    "        if p_val == p_val:\n",
    "            p_vals.loc[gene,'p'] = p_val\n",
    "    return p_vals\n",
    "\n",
    "def plot_hist(stats, bins):\n",
    "    stats = np.array(stats)\n",
    "    plt.hist(stats, bins = bins)\n",
    "    plt.show()\n",
    "\n",
    "\n",
    "def interact_multiple_gene_ttest(Criteria, Group_1, Group_2):\n",
    "    global BRCA_tests\n",
    "    BRCA_tests = differential_test(clinical_data, expression_data, Criteria, Group_1, Group_2)\n",
    "    BRCA_tests = qvalue.qvalues(BRCA_tests)\n",
    "    plot_hist(BRCA_tests['p'].values, 20)\n",
    "    with pd.option_context('display.max_rows', None):\n",
    "        display(BRCA_tests)\n",
    "        \n",
    "def ORA(tests, threshold, pathway_db=['KEGG_2019_Human'], stat = 'p'):\n",
    "    background=set(tests.index)\n",
    "    gene_list = list(tests.loc[tests[stat]<threshold,stat].index)\n",
    "\n",
    "    output_enrichr=pd.DataFrame()\n",
    "    enr=gp.enrichr(\n",
    "                    gene_list=gene_list,\n",
    "                    gene_sets=pathway_db,\n",
    "                    background=background,\n",
    "                    outdir = None\n",
    "                )\n",
    "    results = enr.results[[\"P-value\",\"Overlap\",\"Term\"]].rename(columns={\"P-value\": \"p\"})\n",
    "    return qvalue.qvalues(results)\n",
    "\n",
    "pathway_db_choice = gp.get_library_name()\n",
    "\n",
    "        \n",
    "def interact_ORA(threshold, pathway_db, stat):\n",
    "    threshold = float(threshold)\n",
    "    results = ORA(BRCA_tests, threshold, pathway_db, stat = stat)\n",
    "    with pd.option_context('display.max_rows', None):\n",
    "        display(results)"
   ]
  },
  {
   "cell_type": "code",
   "execution_count": 4,
   "metadata": {},
   "outputs": [
    {
     "data": {
      "application/vnd.jupyter.widget-view+json": {
       "model_id": "4255757823a14cfbbc7e7365a9cf3b01",
       "version_major": 2,
       "version_minor": 0
      },
      "text/plain": [
       "interactive(children=(Text(value='Surgical procedure first', description='Criteria'), Text(value='Simple Maste…"
      ]
     },
     "metadata": {},
     "output_type": "display_data"
    },
    {
     "data": {
      "application/vnd.jupyter.widget-view+json": {
       "model_id": "cb2d867f43bd4ba68617fb17a9d57d04",
       "version_major": 2,
       "version_minor": 0
      },
      "text/plain": [
       "interactive(children=(Text(value='5e-2', description='threshold'), Dropdown(description='pathway_db', options=…"
      ]
     },
     "metadata": {},
     "output_type": "display_data"
    },
    {
     "data": {
      "text/plain": [
       "<function __main__.interact_ORA(threshold, pathway_db, stat)>"
      ]
     },
     "execution_count": 4,
     "metadata": {},
     "output_type": "execute_result"
    }
   ],
   "source": [
    "interact_calc(interact_multiple_gene_ttest, Criteria=Text('Surgical procedure first'), Group_1 = Text('Simple Mastectomy'), Group_2=Text('Lumpectomy'))\n",
    "interact_enrich(interact_ORA, threshold = '5e-2' , pathway_db = pathway_db_choice, stat=['p','q'])"
   ]
  },
  {
   "cell_type": "code",
   "execution_count": 5,
   "metadata": {},
   "outputs": [],
   "source": [
    "def gsea(tests, pathway_db = 'KEGG_2019_Human' ):\n",
    "    pre_res = gp.prerank(rnk=tests['p'], \n",
    "                    gene_sets=pathway_db,\n",
    "                    processes=4,\n",
    "                    permutation_num=100, # reduce number to speed up testing\n",
    "                    outdir='test',  # do not write output to disk\n",
    "                    no_plot=True, # Skip plotting\n",
    "                    format='png')\n",
    "    return pre_res"
   ]
  },
  {
   "cell_type": "code",
   "execution_count": 6,
   "metadata": {},
   "outputs": [],
   "source": [
    "a = gsea(BRCA_tests)"
   ]
  },
  {
   "cell_type": "code",
   "execution_count": 9,
   "metadata": {},
   "outputs": [
    {
     "data": {
      "text/html": [
       "<div>\n",
       "<style scoped>\n",
       "    .dataframe tbody tr th:only-of-type {\n",
       "        vertical-align: middle;\n",
       "    }\n",
       "\n",
       "    .dataframe tbody tr th {\n",
       "        vertical-align: top;\n",
       "    }\n",
       "\n",
       "    .dataframe thead th {\n",
       "        text-align: right;\n",
       "    }\n",
       "</style>\n",
       "<table border=\"1\" class=\"dataframe\">\n",
       "  <thead>\n",
       "    <tr style=\"text-align: right;\">\n",
       "      <th></th>\n",
       "      <th>es</th>\n",
       "      <th>nes</th>\n",
       "      <th>pval</th>\n",
       "      <th>fdr</th>\n",
       "      <th>geneset_size</th>\n",
       "      <th>matched_size</th>\n",
       "      <th>genes</th>\n",
       "      <th>ledge_genes</th>\n",
       "    </tr>\n",
       "    <tr>\n",
       "      <th>Term</th>\n",
       "      <th></th>\n",
       "      <th></th>\n",
       "      <th></th>\n",
       "      <th></th>\n",
       "      <th></th>\n",
       "      <th></th>\n",
       "      <th></th>\n",
       "      <th></th>\n",
       "    </tr>\n",
       "  </thead>\n",
       "  <tbody>\n",
       "    <tr>\n",
       "      <th>Steroid biosynthesis</th>\n",
       "      <td>0.542969</td>\n",
       "      <td>1.453417</td>\n",
       "      <td>0.03</td>\n",
       "      <td>0.358960</td>\n",
       "      <td>19</td>\n",
       "      <td>19</td>\n",
       "      <td>EBP;SQLE;CYP24A1;DHCR7;TM7SF2;NSDHL;DHCR24;MSM...</td>\n",
       "      <td>EBP;SQLE;CYP24A1;DHCR7;TM7SF2;NSDHL;DHCR24;MSM...</td>\n",
       "    </tr>\n",
       "    <tr>\n",
       "      <th>Pyrimidine metabolism</th>\n",
       "      <td>0.460029</td>\n",
       "      <td>1.362757</td>\n",
       "      <td>0.00</td>\n",
       "      <td>0.494567</td>\n",
       "      <td>57</td>\n",
       "      <td>56</td>\n",
       "      <td>DTYMK;UCK2;RRM2B;ENPP1;NT5M;DPYS;DHODH;NT5C3B;...</td>\n",
       "      <td>DTYMK;UCK2;RRM2B;ENPP1;NT5M;DPYS;DHODH;NT5C3B;...</td>\n",
       "    </tr>\n",
       "    <tr>\n",
       "      <th>Sphingolipid metabolism</th>\n",
       "      <td>0.475377</td>\n",
       "      <td>1.346579</td>\n",
       "      <td>0.01</td>\n",
       "      <td>0.536779</td>\n",
       "      <td>47</td>\n",
       "      <td>44</td>\n",
       "      <td>SMPD1;GAL3ST1;CERS5;GBA;SMPD3;UGCG;SPTLC3;CERS...</td>\n",
       "      <td>SMPD1;GAL3ST1;CERS5;GBA;SMPD3;UGCG;SPTLC3;CERS...</td>\n",
       "    </tr>\n",
       "    <tr>\n",
       "      <th>Endocrine and other factor-regulated calcium reabsorption</th>\n",
       "      <td>0.484059</td>\n",
       "      <td>1.372321</td>\n",
       "      <td>0.00</td>\n",
       "      <td>0.565861</td>\n",
       "      <td>48</td>\n",
       "      <td>48</td>\n",
       "      <td>GNAS;KLK1;VDR;CLTCL1;ATP1B4;BDKRB2;ADCY9;AP2A1...</td>\n",
       "      <td>GNAS;KLK1;VDR;CLTCL1;ATP1B4;BDKRB2;ADCY9;AP2A1...</td>\n",
       "    </tr>\n",
       "    <tr>\n",
       "      <th>Glycosylphosphatidylinositol (GPI)-anchor biosynthesis</th>\n",
       "      <td>0.491757</td>\n",
       "      <td>1.322065</td>\n",
       "      <td>0.06</td>\n",
       "      <td>0.639576</td>\n",
       "      <td>25</td>\n",
       "      <td>25</td>\n",
       "      <td>PIGO;PIGQ;GPLD1;PIGF;PIGL;PIGV;PIGH;PIGZ;PIGC;...</td>\n",
       "      <td>PIGO;PIGQ;GPLD1;PIGF;PIGL;PIGV;PIGH;PIGZ;PIGC;...</td>\n",
       "    </tr>\n",
       "  </tbody>\n",
       "</table>\n",
       "</div>"
      ],
      "text/plain": [
       "                                                          es       nes  pval  \\\n",
       "Term                                                                           \n",
       "Steroid biosynthesis                                0.542969  1.453417  0.03   \n",
       "Pyrimidine metabolism                               0.460029  1.362757  0.00   \n",
       "Sphingolipid metabolism                             0.475377  1.346579  0.01   \n",
       "Endocrine and other factor-regulated calcium re...  0.484059  1.372321  0.00   \n",
       "Glycosylphosphatidylinositol (GPI)-anchor biosy...  0.491757  1.322065  0.06   \n",
       "\n",
       "                                                         fdr  geneset_size  \\\n",
       "Term                                                                         \n",
       "Steroid biosynthesis                                0.358960            19   \n",
       "Pyrimidine metabolism                               0.494567            57   \n",
       "Sphingolipid metabolism                             0.536779            47   \n",
       "Endocrine and other factor-regulated calcium re...  0.565861            48   \n",
       "Glycosylphosphatidylinositol (GPI)-anchor biosy...  0.639576            25   \n",
       "\n",
       "                                                    matched_size  \\\n",
       "Term                                                               \n",
       "Steroid biosynthesis                                          19   \n",
       "Pyrimidine metabolism                                         56   \n",
       "Sphingolipid metabolism                                       44   \n",
       "Endocrine and other factor-regulated calcium re...            48   \n",
       "Glycosylphosphatidylinositol (GPI)-anchor biosy...            25   \n",
       "\n",
       "                                                                                                genes  \\\n",
       "Term                                                                                                    \n",
       "Steroid biosynthesis                                EBP;SQLE;CYP24A1;DHCR7;TM7SF2;NSDHL;DHCR24;MSM...   \n",
       "Pyrimidine metabolism                               DTYMK;UCK2;RRM2B;ENPP1;NT5M;DPYS;DHODH;NT5C3B;...   \n",
       "Sphingolipid metabolism                             SMPD1;GAL3ST1;CERS5;GBA;SMPD3;UGCG;SPTLC3;CERS...   \n",
       "Endocrine and other factor-regulated calcium re...  GNAS;KLK1;VDR;CLTCL1;ATP1B4;BDKRB2;ADCY9;AP2A1...   \n",
       "Glycosylphosphatidylinositol (GPI)-anchor biosy...  PIGO;PIGQ;GPLD1;PIGF;PIGL;PIGV;PIGH;PIGZ;PIGC;...   \n",
       "\n",
       "                                                                                          ledge_genes  \n",
       "Term                                                                                                   \n",
       "Steroid biosynthesis                                EBP;SQLE;CYP24A1;DHCR7;TM7SF2;NSDHL;DHCR24;MSM...  \n",
       "Pyrimidine metabolism                               DTYMK;UCK2;RRM2B;ENPP1;NT5M;DPYS;DHODH;NT5C3B;...  \n",
       "Sphingolipid metabolism                             SMPD1;GAL3ST1;CERS5;GBA;SMPD3;UGCG;SPTLC3;CERS...  \n",
       "Endocrine and other factor-regulated calcium re...  GNAS;KLK1;VDR;CLTCL1;ATP1B4;BDKRB2;ADCY9;AP2A1...  \n",
       "Glycosylphosphatidylinositol (GPI)-anchor biosy...  PIGO;PIGQ;GPLD1;PIGF;PIGL;PIGV;PIGH;PIGZ;PIGC;...  "
      ]
     },
     "execution_count": 9,
     "metadata": {},
     "output_type": "execute_result"
    }
   ],
   "source": [
    "a.res2d.head()"
   ]
  },
  {
   "cell_type": "markdown",
   "metadata": {},
   "source": [
    "# References\n",
    "\n",
    "Weinstein, John N., et al. 'The cancer genome atlas pan-cancer analysis project.' Nature genetics 45.10 (2013): 1113-1120.\n",
    "\n",
    "Patrício, Miguel, et al. “Using Resistin, Glucose, Age and BMI to Predict the Presence of Breast Cancer.” BMC Cancer, vol. 18, no. 1, Jan. 2018, p. 29. BioMed Central, doi:10.1186/s12885-017-3877-1."
   ]
  }
 ],
 "metadata": {
  "kernelspec": {
   "display_name": "Python 3",
   "language": "python",
   "name": "python3"
  },
  "language_info": {
   "codemirror_mode": {
    "name": "ipython",
    "version": 3
   },
   "file_extension": ".py",
   "mimetype": "text/x-python",
   "name": "python",
   "nbconvert_exporter": "python",
   "pygments_lexer": "ipython3",
   "version": "3.6.8"
  }
 },
 "nbformat": 4,
 "nbformat_minor": 2
}
