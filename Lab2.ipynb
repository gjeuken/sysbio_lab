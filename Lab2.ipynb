{
 "cells": [
  {
   "cell_type": "markdown",
   "metadata": {},
   "source": [
    "# Enrichment analysys\n",
    "### Over representation analysis\n",
    "* Simplified ilustrative example\n",
    "* Followed by real case\n",
    "### GSEA\n",
    "* Practical using python package\n",
    "\n",
    "# Supervised machine learning\n",
    "### Linear regression\n",
    "### Logistic regression\n",
    "### SVM\n",
    "### Overfitting and Bias vs Variance -> Cross validation\n",
    "### Dimentionality of the input -> PCA\n",
    "\n",
    "# Unsupervised machine learning\n",
    "### K-means clustering\n",
    "* Using TCGA data, HR+/-"
   ]
  },
  {
   "cell_type": "code",
   "execution_count": 5,
   "metadata": {},
   "outputs": [],
   "source": [
    "import numpy as np\n",
    "import scipy as sp\n",
    "import pandas as pd\n",
    "import matplotlib.pyplot as plt\n",
    "import seaborn as sns\n",
    "import sklearn as skl\n",
    "\n",
    "from ipywidgets import interact, interact_manual\n",
    "from ipywidgets import IntSlider, FloatSlider, Dropdown, Text\n",
    "\n",
    "interact_gen=interact_manual.options(manual_name=\"Generate data\")\n",
    "interact_plot=interact_manual.options(manual_name=\"Plot\")\n",
    "interact_calc=interact_manual.options(manual_name=\"Calculate tests\")"
   ]
  },
  {
   "cell_type": "code",
   "execution_count": null,
   "metadata": {},
   "outputs": [],
   "source": [
    "expression_data = pd.read_csv(\"data/TCGA_pan_data.tar.gz\", index_col=0)\n",
    "labels = pd.read_csv(\"data/TCGA_pan_labels.csv\", index_col=0)"
   ]
  },
  {
   "cell_type": "code",
   "execution_count": 2,
   "metadata": {},
   "outputs": [],
   "source": [
    "clinical_data = pd.read_csv('data/data_clinical_sample.txt', sep ='\\t', index_col=0)\n",
    "clinical_data = clinical_data.iloc[4:,:]\n",
    "clinical_data = clinical_data.set_index(\"Sample Identifier\")\n",
    "expression_data = pd.read_csv('data/data_RNA_Seq_v2_expression_median.tar.gz', sep ='\\t', index_col=0)\n",
    "expression_data = expression_data.T.iloc[1:,:]"
   ]
  },
  {
   "cell_type": "code",
   "execution_count": 3,
   "metadata": {},
   "outputs": [],
   "source": [
    "def multiple_gene_ttest(clinical_df, expression_df, separator, cond1, cond2):\n",
    "    p_vec = []\n",
    "    for gene in expression_df.columns:\n",
    "        try:\n",
    "            expression = expression_df[gene]\n",
    "        except:\n",
    "            print('Gene not found in data')\n",
    "        try:\n",
    "            group1 = clinical_df[separator] == cond1\n",
    "            index1 = clinical_df[group1].index\n",
    "            group2 = clinical_df[separator] == cond2\n",
    "            index2 = clinical_df[group2].index\n",
    "        except:\n",
    "            print('Clinical condition wrong')\n",
    "        expression1 = expression[index1].dropna()\n",
    "        expression2 = expression[index2].dropna()\n",
    "        p_val = sp.stats.ttest_ind(expression1, expression2).pvalue\n",
    "        p_vec.append(p_val)\n",
    "    return p_vec\n",
    "\n",
    "def plot_hist_pi0_TCGA(stats, bins, threshold, pi0):\n",
    "    plt.rcParams[\"figure.figsize\"] = (20,10)\n",
    "    stats = np.array(stats)\n",
    "    stats_accepted = stats[stats <= threshold]\n",
    "    m = len(stats)\n",
    "    fdr_est = min((pi0*m*threshold)/len(stats_accepted),1)\n",
    "    h = pi0*m/bins\n",
    "    plt.hist(stats, bins = bins)\n",
    "    plt.title('Estimated FDR: ' + str(np.round(fdr_est, 3)), fontsize=24)\n",
    "    plt.vlines(threshold, 0, plt.gca().get_ylim()[1], color='r', linestyles = 'dashed')\n",
    "    plt.hlines(h, 0, 1, color='black', linestyles = 'dashed', linewidth=3)\n",
    "    plt.show()\n",
    "\n",
    "\n",
    "def interact_multiple_gene_ttest(Criteria, Group_1, Group_2):\n",
    "    global TCGA_multiple_t\n",
    "    TCGA_multiple_t = multiple_gene_ttest(clinical_data, expression_data, Criteria, Group_1, Group_2)\n",
    "    \n",
    "def interactive_plot_hist_TCGA(Bins, Threshold, Pi0):\n",
    "    plot_hist_pi0_TCGA(TCGA_multiple_t, Bins, Threshold, Pi0)"
   ]
  },
  {
   "cell_type": "code",
   "execution_count": 6,
   "metadata": {},
   "outputs": [
    {
     "data": {
      "application/vnd.jupyter.widget-view+json": {
       "model_id": "0895bb66f49d4f3aa7d7b5e2d1f6de43",
       "version_major": 2,
       "version_minor": 0
      },
      "text/plain": [
       "interactive(children=(Text(value='Surgical procedure first', description='Criteria'), Text(value='Simple Maste…"
      ]
     },
     "metadata": {},
     "output_type": "display_data"
    },
    {
     "data": {
      "application/vnd.jupyter.widget-view+json": {
       "model_id": "76ba09d67e5247a49ac212af309833c1",
       "version_major": 2,
       "version_minor": 0
      },
      "text/plain": [
       "interactive(children=(IntSlider(value=20, continuous_update=False, description='Bins', min=10, step=10), Float…"
      ]
     },
     "metadata": {},
     "output_type": "display_data"
    },
    {
     "data": {
      "text/plain": [
       "<function __main__.interactive_plot_hist_TCGA(Bins, Threshold, Pi0)>"
      ]
     },
     "execution_count": 6,
     "metadata": {},
     "output_type": "execute_result"
    }
   ],
   "source": [
    "interact_calc(interact_multiple_gene_ttest, Criteria=Text('Surgical procedure first'), Group_1 = Text('Simple Mastectomy'), Group_2=Text('Lumpectomy'))\n",
    "interact_plot(interactive_plot_hist_TCGA, Threshold = FloatSlider(min=0.01,max=0.5,value=0.05, step = 0.01, continuous_update=False), Bins=IntSlider(min=10,max=100, step = 10,value=20, continuous_update=False), Pi0 = FloatSlider(min=0,max=1, step = 0.01, continuous_update=False))"
   ]
  },
  {
   "cell_type": "markdown",
   "metadata": {},
   "source": [
    "# References\n",
    "\n",
    "Weinstein, John N., et al. 'The cancer genome atlas pan-cancer analysis project.' Nature genetics 45.10 (2013): 1113-1120.\n",
    "\n",
    "Patrício, Miguel, et al. “Using Resistin, Glucose, Age and BMI to Predict the Presence of Breast Cancer.” BMC Cancer, vol. 18, no. 1, Jan. 2018, p. 29. BioMed Central, doi:10.1186/s12885-017-3877-1."
   ]
  }
 ],
 "metadata": {
  "kernelspec": {
   "display_name": "Python 3",
   "language": "python",
   "name": "python3"
  },
  "language_info": {
   "codemirror_mode": {
    "name": "ipython",
    "version": 3
   },
   "file_extension": ".py",
   "mimetype": "text/x-python",
   "name": "python",
   "nbconvert_exporter": "python",
   "pygments_lexer": "ipython3",
   "version": "3.6.8"
  }
 },
 "nbformat": 4,
 "nbformat_minor": 2
}
