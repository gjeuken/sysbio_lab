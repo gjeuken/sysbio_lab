{
 "cells": [
  {
   "cell_type": "markdown",
   "metadata": {},
   "source": [
    "# Lab 2 - Pathway analysis and Machine Learning\n",
    "\n",
    "# Pathway analysis\n",
    "\n",
    "Let's pick up from where we left in the last lab. By the end of the lab you found interesting genes that were **differentially expressed** between two **clinically relevant** conditions.\n",
    "\n",
    "You've also learned that one way to make more sense of these results is by performing **pathway analysis**, so let's do that.\n",
    "\n",
    "We, as always, start by importing relevant libraries and loading the data.\n",
    "For pathway analysis, we will be mostly working with the [gseapy](https://github.com/ostrokach/gseapy) library, which is mostly a python wrapper for GSEA and Enrichr.\n",
    "\n"
   ]
  },
  {
   "cell_type": "code",
   "execution_count": 2,
   "metadata": {},
   "outputs": [],
   "source": [
    "import numpy as np\n",
    "import scipy as sp\n",
    "import pandas as pd\n",
    "import matplotlib.pyplot as plt\n",
    "import seaborn as sns\n",
    "import gseapy as gp\n",
    "from gseapy.plot import gseaplot\n",
    "import qvalue\n",
    "\n",
    "from ipywidgets import interact, interact_manual\n",
    "from ipywidgets import IntSlider, FloatSlider, Dropdown, Text\n",
    "\n",
    "interact_enrich=interact_manual.options(manual_name=\"Enrichment analysis\")\n",
    "interact_plot=interact_manual.options(manual_name=\"Plot\")\n",
    "interact_calc=interact_manual.options(manual_name=\"Calculate tests\")\n"
   ]
  },
  {
   "cell_type": "code",
   "execution_count": 6,
   "metadata": {},
   "outputs": [],
   "source": [
    "clinical_data = pd.read_csv('data/brca_clin.tsv.gz', sep ='\\t', index_col=2)\n",
    "clinical_data = clinical_data.iloc[4:,1:]\n",
    "expression_data = pd.read_csv('data/brca.tsv.gz', sep ='\\t', index_col=1)\n",
    "expression_data = expression_data.iloc[:,2:].T"
   ]
  },
  {
   "cell_type": "markdown",
   "metadata": {},
   "source": [
    "## Over Representation Analysis\n",
    "\n",
    "We beggin with Enrichr, which performs **Over Representation Analysis (ORA)**.\n",
    "You have learned that ORA compares two set of genes and calculates how likelly would their overlap occur by random.\n",
    "\n",
    "We will call the first set of genes the 'query set', and they will be the genes found to be **most significantly differentially espressed**, but you will get a chance to define what that means.\n",
    "Here, you can separate the query genes from the rest by thresholding on either the *p-value* or *q-value*, and the log2 fold change. \n",
    "\n",
    "The second gene on the test is the **pathway**, and you will be able to select one of many pathway databases availiable online. Each database divides the genome into sets according to different criteria.\n",
    "\n",
    "Enrichment analysis interactive fields:\n",
    "* **Pathway_DB**: Your choice of pathway database.\n",
    "* **Statistic**: Which statistic to use for thresholding, p or q-value.\n",
    "* **Threshold**: The statistical threshold.\n",
    "* **Lo2FC_threshold**: The log2 fold change threshold.\n",
    "\n",
    "Use the interactive code bellow to answer the following questions:\n",
    "\n",
    "### Questions\n",
    "\n",
    "\n",
    "\n"
   ]
  },
  {
   "cell_type": "code",
   "execution_count": null,
   "metadata": {},
   "outputs": [],
   "source": [
    "def differential_test(clinical_df, expression_df, separator, cond1, cond2):\n",
    "    results = pd.DataFrame(columns = ['p','log2fc'])\n",
    "    try:\n",
    "        group1 = clinical_df[separator] == cond1\n",
    "        index1 = clinical_df[group1].index\n",
    "        group2 = clinical_df[separator] == cond2\n",
    "        index2 = clinical_df[group2].index\n",
    "    except:\n",
    "        print('Clinical condition wrong')\n",
    "        \n",
    "    expression1 = expression_df.loc[index1]\n",
    "    expression2 = expression_df.loc[index2]\n",
    "    \n",
    "    for gene in expression_df.columns:\n",
    "        p_val = sp.stats.ttest_ind(expression1[gene], expression2[gene]).pvalue\n",
    "        fc = np.log2(np.mean(expression1[gene])/np.mean(expression2[gene]))\n",
    "        if p_val == p_val:\n",
    "            results.loc[gene,'p'] = p_val\n",
    "            results.loc[gene, 'log2fc'] = fc\n",
    "            \n",
    "    return results\n",
    "\n",
    "def plot_hist(stats, bins):\n",
    "    stats = np.array(stats)\n",
    "    plt.hist(stats, bins = bins)\n",
    "    plt.show()\n",
    "\n",
    "\n",
    "def interact_multiple_gene_ttest(Criteria, Group_1, Group_2):\n",
    "    global BRCA_tests\n",
    "    BRCA_tests = differential_test(clinical_data, expression_data, Criteria, Group_1, Group_2)\n",
    "    BRCA_tests = qvalue.qvalues(BRCA_tests)\n",
    "    plot_hist(BRCA_tests['p'].values, 20)\n",
    "    with pd.option_context('display.max_rows', None):\n",
    "        display(BRCA_tests)\n",
    "        \n",
    "def ORA(tests, threshold, log2fc_threshold, pathway_db=['KEGG_2019_Human'], stat = 'p'):\n",
    "    background=set(tests.index)\n",
    "    #gene_list = list(tests.loc[tests[stat]<threshold,stat].index)\n",
    "    gene_list = list(tests.loc[(tests[stat]<threshold) & (np.abs(tests['log2fc']) > log2fc_threshold), stat].index)\n",
    "    print('Query set size: ' + str(len(gene_list)))\n",
    "\n",
    "    output_enrichr=pd.DataFrame()\n",
    "    enr=gp.enrichr(\n",
    "                    gene_list=gene_list,\n",
    "                    gene_sets=pathway_db,\n",
    "                    background=background,\n",
    "                    outdir = None\n",
    "                )\n",
    "    results = enr.results[[\"P-value\",\"Overlap\",\"Term\"]].rename(columns={\"P-value\": \"p\"})\n",
    "    return qvalue.qvalues(results)\n",
    "\n",
    "pathway_db_choice = gp.get_library_name()\n",
    "\n",
    "        \n",
    "def interact_ORA(Pathway_DB, Statistic, Threshold, Log2FC_threshold):\n",
    "    threshold = float(Threshold)\n",
    "    log2fc_threshold = float(Log2FC_threshold)\n",
    "    results = ORA(BRCA_tests, threshold, log2fc_threshold, Pathway_DB, stat = Statistic)\n",
    "    with pd.option_context('display.max_rows', None):\n",
    "        display(results)"
   ]
  },
  {
   "cell_type": "code",
   "execution_count": null,
   "metadata": {
    "scrolled": false
   },
   "outputs": [],
   "source": [
    "interact_calc(interact_multiple_gene_ttest, Criteria=Text('Surgical procedure first'), Group_1 = Text('Simple Mastectomy'), Group_2=Text('Lumpectomy'))\n",
    "interact_enrich(interact_ORA, Threshold = '5e-2' , Pathway_DB = pathway_db_choice, Statistic=['p','q'], Log2FC_threshold = Text('0'))"
   ]
  },
  {
   "cell_type": "markdown",
   "metadata": {},
   "source": [
    "## Enrichment Analysis\n",
    "\n",
    "We then move one to another form of pathway analysis, dubbed **Enrichment Analysis**.\n",
    "As opposed to ORA, enrichment analysis takes as an input a ranked list and a gene set, and asks how likely is that those genes from the set randomly distributed along the list.\n",
    "\n",
    "This then makes our life easier, there is no need to define a query set, and we already have our list of genes, and all that is left is to rank it.\n",
    "\n",
    "Bellow you will have the option of ranking the list by either p-value, q-value or the log2 fold change.\n",
    "\n",
    "Perform the enrichment analysis as many times as you think it is needed to answer the question. The test might take a while, so be patient :)\n",
    "\n",
    "\n",
    "### Questions"
   ]
  },
  {
   "cell_type": "code",
   "execution_count": null,
   "metadata": {},
   "outputs": [],
   "source": [
    "def gsea(tests, stat, pathway_db = 'KEGG_2019_Human'):\n",
    "    pre_res = gp.prerank(rnk=tests[stat], \n",
    "                    gene_sets=pathway_db,\n",
    "                    processes=4,\n",
    "                    #permutation_num=100, # reduce number to speed up testing\n",
    "                    outdir=None, format='png')\n",
    "    return pre_res\n",
    "\n",
    "def interact_gsea(Pathway_DB, Ranking):\n",
    "    global Results_gsea\n",
    "    Results_gsea = gsea(BRCA_tests, pathway_db=Pathway_DB, stat = Ranking)\n",
    "    with pd.option_context('display.max_rows', None):\n",
    "        display(Results_gsea.res2d[['pval', 'fdr']])"
   ]
  },
  {
   "cell_type": "code",
   "execution_count": null,
   "metadata": {},
   "outputs": [],
   "source": [
    "interact_calc(interact_multiple_gene_ttest, Criteria=Text('Surgical procedure first'), Group_1 = Text('Simple Mastectomy'), Group_2=Text('Lumpectomy'))\n",
    "interact_enrich(interact_gsea, Pathway_DB = pathway_db_choice, Ranking = ['p','q','log2fc'])"
   ]
  },
  {
   "cell_type": "markdown",
   "metadata": {},
   "source": [
    "# Machine learning, SVMs\n",
    "\n",
    "Ok, so now for something different. \n",
    "We continue with our dataset on breast cancer, but this time we will try to use machine learning to predict the clinical conditions based on the gene expression data.\n",
    "\n",
    "You again will be able two choose the two clinical groups we will use to train the model, and your choice will affect the results and performance of the model. Special attention should be paid to the number of data points in each group.\n",
    "\n",
    "Let's train our first SVM. You've learned the values of feature scaling and so we will test it.\n",
    "Below you will separate the data set into two and train an SVM to distinguish between the two using the gene expression of the samples, and you can chose whether you'd like to rescale the features first or not.\n",
    "\n",
    "Once you have done so, you will be presented with a [confusion matrix](https://en.wikipedia.org/wiki/Confusion_matrix), and from that will need to devise a performance metric.\n",
    "[This Wikipedia page](https://en.wikipedia.org/wiki/Evaluation_of_binary_classifiers) can be helpful when choosing how to measure the perfomance.\n",
    "\n",
    "You know the drill by now, play around with it for a while and answer the questions.\n",
    "\n",
    "## Questions\n",
    "\n",
    "\n",
    "\n",
    "\n",
    "\n",
    "\n"
   ]
  },
  {
   "cell_type": "code",
   "execution_count": 3,
   "metadata": {},
   "outputs": [],
   "source": [
    "import sklearn as skl\n",
    "from sklearn.svm import LinearSVC\n",
    "from sklearn.preprocessing import StandardScaler\n",
    "from sklearn.metrics import confusion_matrix\n",
    "from sklearn.model_selection import train_test_split\n",
    "from sklearn.decomposition import PCA\n",
    "\n",
    "interact_gen=interact_manual.options(manual_name=\"Initialize data\")\n",
    "interact_SVM=interact_manual.options(manual_name=\"Train SVM\")"
   ]
  },
  {
   "cell_type": "code",
   "execution_count": 4,
   "metadata": {},
   "outputs": [],
   "source": [
    "def split_data(clinical_df, expression_df, separator, cond1, cond2):\n",
    "    try:\n",
    "        group1 = clinical_df[separator] == cond1\n",
    "        index1 = clinical_df[group1].index\n",
    "        group2 = clinical_df[separator] == cond2\n",
    "        index2 = clinical_df[group2].index\n",
    "    except:\n",
    "        print('Clinical condition wrong')\n",
    "    expression1 = expression_df.loc[index1].dropna()\n",
    "    expression2 = expression_df.loc[index2].dropna()\n",
    "    expression = pd.concat([expression1, expression2])\n",
    "    X = expression.values\n",
    "    y = np.append(np.repeat(0, len(expression1)), np.repeat(1, len(expression2)))\n",
    "    display(pd.DataFrame([len(index1),len(index2)], columns = ['Number of points'], index = ['Group 1', 'Group 2']))\n",
    "    return X, y\n",
    "\n",
    "def train_SVM(X, y, C=1, scale = False, max_iter = 1000):\n",
    "    if scale:\n",
    "        scaler = StandardScaler()\n",
    "        X = scaler.fit_transform(X)\n",
    "    clf = LinearSVC(C=C, max_iter=max_iter)\n",
    "    clf.fit(X,y)\n",
    "    return clf\n",
    "\n",
    "def print_accuracy(X_train, y_train, X_test, y_test, clf):\n",
    "    y_train_pred = clf.predict(X_train)\n",
    "    ac_matrix_train = confusion_matrix(y_train, y_train_pred)\n",
    "    y_test_pred = clf.predict(X_test)\n",
    "    ac_matrix_test = confusion_matrix(y_test, y_test_pred)\n",
    "    display(pd.DataFrame(np.concatenate((ac_matrix_train,ac_matrix_test), axis =1), columns = [\"predicted G1 (training)\",\"predicted G2 (training)\", \"predicted G1 (test)\",\"predicted G2 (test)\"],index=[\"actual G1\",\"actual G2\"]))\n",
    "    \n",
    "def plot_pca_variance(X, scale=False, ncomp = 1):\n",
    "    if scale:\n",
    "        scaler = StandardScaler()\n",
    "        X = scaler.fit_transform(X)\n",
    "    pca = PCA()\n",
    "    pca.fit(X)\n",
    "    plt.rcParams[\"figure.figsize\"] = (20,10)\n",
    "    sns.set(style='darkgrid', context='talk')\n",
    "    plt.plot(np.arange(1,len(pca.explained_variance_ratio_)+1),np.cumsum(pca.explained_variance_ratio_))\n",
    "    plt.xlabel('Number of components')\n",
    "    plt.ylabel('Cumulative explained variance')\n",
    "    \n",
    "    plt.vlines(ncomp, 0, plt.gca().get_ylim()[1], color='r', linestyles = 'dashed')\n",
    "    h = np.cumsum(pca.explained_variance_ratio_)[ncomp -1]\n",
    "    plt.hlines(h, 0, plt.gca().get_xlim()[1], color='r', linestyles = 'dashed')\n",
    "    plt.title(str(ncomp) + ' components, ' + str(round(h, 3)) + ' variance explained')\n",
    "    plt.show()\n",
    "    \n",
    "def reduce_data(X, n, scale=True):\n",
    "    if scale:\n",
    "        scaler = StandardScaler()\n",
    "        X = scaler.fit_transform(X)\n",
    "    pca = PCA(n_components=n)\n",
    "    Xr = pca.fit_transform(X)\n",
    "    return Xr"
   ]
  },
  {
   "cell_type": "code",
   "execution_count": 7,
   "metadata": {},
   "outputs": [
    {
     "data": {
      "application/vnd.jupyter.widget-view+json": {
       "model_id": "3e81941ed20741f6a12c3fe1abac8891",
       "version_major": 2,
       "version_minor": 0
      },
      "text/plain": [
       "interactive(children=(Text(value='Surgical procedure first', description='Criteria'), Text(value='Simple Maste…"
      ]
     },
     "metadata": {},
     "output_type": "display_data"
    },
    {
     "data": {
      "application/vnd.jupyter.widget-view+json": {
       "model_id": "a5dfc47c42e24adf877d1fb169380631",
       "version_major": 2,
       "version_minor": 0
      },
      "text/plain": [
       "interactive(children=(Checkbox(value=False, description='Rescale'), FloatSlider(value=0.1, description='Data_s…"
      ]
     },
     "metadata": {},
     "output_type": "display_data"
    },
    {
     "data": {
      "text/plain": [
       "<function __main__.interact_SVM_1(Rescale, Data_split, Max_iterations)>"
      ]
     },
     "execution_count": 7,
     "metadata": {},
     "output_type": "execute_result"
    }
   ],
   "source": [
    "def interact_split_data(Criteria, Group_1, Group_2):\n",
    "    global BRCA_X, BRCA_y\n",
    "    BRCA_X, BRCA_y = split_data(clinical_data, expression_data, Criteria, Group_1, Group_2)\n",
    "\n",
    "def interact_SVM_1(Rescale, Data_split, Max_iterations):\n",
    "    max_iter = int(Max_iterations)\n",
    "    X_train, X_test, y_train, y_test = train_test_split(BRCA_X, BRCA_y, test_size=Data_split)\n",
    "    clf = train_SVM(X_train, y_train, C=1, scale = Rescale, max_iter=max_iter)\n",
    "    print_accuracy(X_train, y_train, X_test, y_test, clf)\n",
    "    \n",
    "interact_gen(interact_split_data, Criteria=Text('Surgical procedure first'), Group_1 = Text('Simple Mastectomy'), Group_2=Text('Lumpectomy'))\n",
    "interact_SVM(interact_SVM_1, Rescale = False, Data_split = FloatSlider(min=0,max=1,value=0.1, step = 0.05), Max_iterations = Text('1000'))"
   ]
  },
  {
   "cell_type": "markdown",
   "metadata": {},
   "source": [
    "# Regularization\n",
    "\n",
    "You have learned about the propensity of machine learning methods to overfit.\n",
    "One way of trying to avoid overfitting is called [**regularization**](https://en.wikipedia.org/wiki/Regularization_(mathematics)). \n",
    "Regularization, as the names suggests, is a way of adding extra rules in a way that adds extra information on the system. It also serves as a great way to add **domain knowledge** into a general system.\n",
    "\n",
    "SVMs have an buit in regularization mechanism in the form of the **C parameter**. If you are not familiar with this parameter, read a bit on it, and then play around with the SVM below. \n",
    "As with every form of regularization, it is more of an art than a science, and so a good value will depend a lot on how your data looks like.\n",
    "\n",
    "## Questions\n"
   ]
  },
  {
   "cell_type": "code",
   "execution_count": null,
   "metadata": {},
   "outputs": [],
   "source": [
    "def interact_SVM_2(Rescale, Data_split, Max_iterations, C_parameter):\n",
    "    max_iter = int(Max_iterations)\n",
    "    C = float(C_parameter)\n",
    "    X_train, X_test, y_train, y_test = train_test_split(BRCA_X, BRCA_y, test_size=Data_split)\n",
    "    clf = train_SVM(X_train, y_train, C=C, scale = Rescale, max_iter=max_iter)\n",
    "    print_accuracy(X_train, y_train, X_test, y_test, clf)\n",
    "\n",
    "interact_gen(interact_split_data, Criteria=Text('Surgical procedure first'), Group_1 = Text('Simple Mastectomy'), Group_2=Text('Lumpectomy'))\n",
    "interact_SVM(interact_SVM_2, Rescale = False, Data_split = FloatSlider(min=0,max=1,value=0.1, step = 0.05), Max_iterations = Text('1000'), C_parameter = Text('1'))"
   ]
  },
  {
   "cell_type": "markdown",
   "metadata": {},
   "source": [
    "# Dimentionality\n",
    "\n",
    "Let's explore how the dimentionality of the data affects the prediction accuracy. You have heard of the [curse of dimensionality](https://en.wikipedia.org/wiki/Curse_of_dimensionality), and often we are subject to it just because of the amount of genes on a genome and the low number of samples.\n",
    "\n",
    "Luckly, you have also learned at least one way to reduce the dimentionality of the data. Here we will use PCA to reduce the dimentions from around 20 thousand genes to a more managable number of dimention.\n",
    "First, you will need to choose if you normalize all the dimentions before performing the PCA, then you will be shown how much of the variance in the data is captured by the first components (remember that the normalization also changes the variance). With this information you will be able to have an educated guess on how many principal components you want to use to train the SVM.\n",
    "\n",
    "As always, play with it as much as you need to answer the question.\n",
    "\n",
    "## Questions"
   ]
  },
  {
   "cell_type": "code",
   "execution_count": null,
   "metadata": {},
   "outputs": [],
   "source": [
    "def interact_PCA_plot(PCA_scaling, N_components):\n",
    "    n_comp = int(N_components)\n",
    "    plot_pca_variance(BRCA_X, scale=PCA_scaling, ncomp = n_comp)\n",
    "    \n",
    "def interact_SVM_3(Rescale, Data_split, Max_iterations, C_parameter, Reduce, PCA_scaling, N_components):\n",
    "    max_iter = int(Max_iterations)\n",
    "    n_comp = int(N_components)\n",
    "    C = float(C_parameter)\n",
    "    if Reduce:\n",
    "        X = reduce_data(BRCA_X, n = n_comp, scale=PCA_scaling)\n",
    "    else:\n",
    "        X = BRCA_X\n",
    "    X_train, X_test, y_train, y_test = train_test_split(X, BRCA_y, test_size=Data_split)\n",
    "    clf = train_SVM(X_train, y_train, C=C, scale = Rescale, max_iter=max_iter)\n",
    "    print_accuracy(X_train, y_train, X_test, y_test, clf)\n",
    "    \n",
    "interact_gen(interact_split_data, Criteria=Text('Surgical procedure first'), Group_1 = Text('Simple Mastectomy'), Group_2=Text('Lumpectomy'))\n",
    "interact_plot(interact_PCA_plot, PCA_scaling = False, N_components = Text('1'))\n",
    "interact_SVM(interact_SVM_3, Rescale = False, Data_split = FloatSlider(min=0,max=1,value=0.1, step = 0.05), Max_iterations = Text('1000'), C_parameter = Text('1'), Reduce = False, PCA_scaling = False, N_components = Text('1'))"
   ]
  },
  {
   "cell_type": "code",
   "execution_count": null,
   "metadata": {},
   "outputs": [],
   "source": []
  },
  {
   "cell_type": "code",
   "execution_count": null,
   "metadata": {},
   "outputs": [],
   "source": []
  },
  {
   "cell_type": "code",
   "execution_count": null,
   "metadata": {},
   "outputs": [],
   "source": []
  },
  {
   "cell_type": "code",
   "execution_count": null,
   "metadata": {},
   "outputs": [],
   "source": []
  },
  {
   "cell_type": "code",
   "execution_count": null,
   "metadata": {},
   "outputs": [],
   "source": []
  },
  {
   "cell_type": "code",
   "execution_count": null,
   "metadata": {},
   "outputs": [],
   "source": []
  },
  {
   "cell_type": "markdown",
   "metadata": {},
   "source": [
    "# References\n",
    "\n",
    "Weinstein, John N., et al. 'The cancer genome atlas pan-cancer analysis project.' Nature genetics 45.10 (2013): 1113-1120.\n",
    "\n",
    "Patrício, Miguel, et al. “Using Resistin, Glucose, Age and BMI to Predict the Presence of Breast Cancer.” BMC Cancer, vol. 18, no. 1, Jan. 2018, p. 29. BioMed Central, doi:10.1186/s12885-017-3877-1."
   ]
  }
 ],
 "metadata": {
  "kernelspec": {
   "display_name": "Python 3",
   "language": "python",
   "name": "python3"
  },
  "language_info": {
   "codemirror_mode": {
    "name": "ipython",
    "version": 3
   },
   "file_extension": ".py",
   "mimetype": "text/x-python",
   "name": "python",
   "nbconvert_exporter": "python",
   "pygments_lexer": "ipython3",
   "version": "3.7.2"
  }
 },
 "nbformat": 4,
 "nbformat_minor": 2
}
