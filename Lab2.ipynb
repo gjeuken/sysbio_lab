{
 "cells": [
  {
   "cell_type": "markdown",
   "metadata": {},
   "source": [
    "# Unsupervised ML\n",
    "\n",
    "## Clustering\n",
    "* Cluestermap\n",
    "* K-means\n",
    "\n",
    "# Enrichment analysis usign gseapy\n",
    "\n",
    "# Supervised ML\n",
    "\n",
    "## SVM\n",
    "\n",
    "* Using known onco-genes as \n",
    "* Plot score vector\n",
    "\n",
    "## Bonus questions\n",
    "* Supervised\n",
    "* Precision and recall curve\n",
    "\n",
    "# Other ideas\n",
    "* Classification vs regression\n",
    "* Variance vs bias\n",
    "* Overfitting\n",
    "\n"
   ]
  },
  {
   "cell_type": "markdown",
   "metadata": {},
   "source": [
    "# Supervised ML\n",
    "* Bias vs Variance\n",
    "* Cross valitation\n",
    "\n",
    "## Regression\n",
    "* Linear\n",
    "* Logistic (Bonus ?)\n",
    "\n",
    "## Classification\n",
    "* SVM\n",
    "\n",
    "\n",
    "# Unsupervised\n",
    "* k-means clustering\n",
    "* Dimentionality of input -> PCA\n",
    "\n",
    "# Bonus\n",
    "* Precision and recall curve\n"
   ]
  },
  {
   "cell_type": "code",
   "execution_count": 2,
   "metadata": {},
   "outputs": [],
   "source": [
    "import numpy as np\n",
    "import scipy as sp\n",
    "import pandas as pd\n",
    "import matplotlib.pyplot as plt\n",
    "import seaborn as sns\n",
    "import sklearn as skl"
   ]
  },
  {
   "cell_type": "code",
   "execution_count": 10,
   "metadata": {},
   "outputs": [],
   "source": [
    "expression_data = pd.read_csv(\"data/TCGA_pan_data.tar.gz\", index_col=0)\n",
    "labels = pd.read_csv(\"data/TCGA_pan_labels.csv\", index_col=0)"
   ]
  },
  {
   "cell_type": "code",
   "execution_count": null,
   "metadata": {},
   "outputs": [],
   "source": []
  },
  {
   "cell_type": "markdown",
   "metadata": {},
   "source": [
    "# References\n",
    "Patrício, Miguel, et al. “Using Resistin, Glucose, Age and BMI to Predict the Presence of Breast Cancer.” BMC Cancer, vol. 18, no. 1, Jan. 2018, p. 29. BioMed Central, doi:10.1186/s12885-017-3877-1."
   ]
  }
 ],
 "metadata": {
  "kernelspec": {
   "display_name": "Python 3",
   "language": "python",
   "name": "python3"
  },
  "language_info": {
   "codemirror_mode": {
    "name": "ipython",
    "version": 3
   },
   "file_extension": ".py",
   "mimetype": "text/x-python",
   "name": "python",
   "nbconvert_exporter": "python",
   "pygments_lexer": "ipython3",
   "version": "3.6.8"
  }
 },
 "nbformat": 4,
 "nbformat_minor": 2
}
