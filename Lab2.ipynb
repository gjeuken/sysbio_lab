{
 "cells": [
  {
   "cell_type": "markdown",
   "metadata": {},
   "source": [
    "# Enrichment analysys\n",
    "### Over representation analysis\n",
    "* Simplified ilustrative example\n",
    "* Followed by real case\n",
    "### GSEA\n",
    "* Practical using python package\n",
    "\n",
    "# Supervised machine learning\n",
    "### Linear regression\n",
    "### Logistic regression\n",
    "### SVM\n",
    "### Overfitting and Bias vs Variance -> Cross validation\n",
    "### Dimentionality of the input -> PCA\n",
    "\n",
    "# Unsupervised machine learning\n",
    "### K-means clustering\n",
    "* Using TCGA data, HR+/-"
   ]
  },
  {
   "cell_type": "markdown",
   "metadata": {},
   "source": [
    "# Pathway analysis"
   ]
  },
  {
   "cell_type": "code",
   "execution_count": 4,
   "metadata": {},
   "outputs": [],
   "source": [
    "import numpy as np\n",
    "import scipy as sp\n",
    "import pandas as pd\n",
    "import matplotlib.pyplot as plt\n",
    "import seaborn as sns\n",
    "import sklearn as skl\n",
    "import gseapy as gp\n",
    "from gseapy.plot import gseaplot\n",
    "import qvalue\n",
    "\n",
    "from ipywidgets import interact, interact_manual\n",
    "from ipywidgets import IntSlider, FloatSlider, Dropdown, Text\n",
    "\n",
    "interact_enrich=interact_manual.options(manual_name=\"Enrichment analysis\")\n",
    "interact_plot=interact_manual.options(manual_name=\"Plot\")\n",
    "interact_calc=interact_manual.options(manual_name=\"Calculate tests\")"
   ]
  },
  {
   "cell_type": "code",
   "execution_count": 5,
   "metadata": {},
   "outputs": [],
   "source": [
    "clinical_data = pd.read_csv('data/brca_clin.tsv.gz', sep ='\\t', index_col=2)\n",
    "clinical_data = clinical_data.iloc[4:,1:]\n",
    "expression_data = pd.read_csv('data/brca.tsv.gz', sep ='\\t', index_col=1)\n",
    "expression_data = expression_data.iloc[:,2:].T"
   ]
  },
  {
   "cell_type": "code",
   "execution_count": 6,
   "metadata": {},
   "outputs": [],
   "source": [
    "def differential_test(clinical_df, expression_df, separator, cond1, cond2):\n",
    "    p_vals = pd.DataFrame(columns = ['p'])\n",
    "    try:\n",
    "        group1 = clinical_df[separator] == cond1\n",
    "        index1 = clinical_df[group1].index\n",
    "        group2 = clinical_df[separator] == cond2\n",
    "        index2 = clinical_df[group2].index\n",
    "    except:\n",
    "        print('Clinical condition wrong')\n",
    "    for gene in expression_df.columns:\n",
    "        try:\n",
    "            expression = expression_df[gene]\n",
    "        except:\n",
    "            print('Gene not found in data')\n",
    "        expression1 = expression[index1].dropna()\n",
    "        expression2 = expression[index2].dropna()\n",
    "        p_val = sp.stats.ttest_ind(expression1, expression2).pvalue\n",
    "        if p_val == p_val:\n",
    "            p_vals.loc[gene,'p'] = p_val\n",
    "    return p_vals\n",
    "\n",
    "def plot_hist(stats, bins):\n",
    "    stats = np.array(stats)\n",
    "    plt.hist(stats, bins = bins)\n",
    "    plt.show()\n",
    "\n",
    "\n",
    "def interact_multiple_gene_ttest(Criteria, Group_1, Group_2):\n",
    "    global BRCA_tests\n",
    "    BRCA_tests = differential_test(clinical_data, expression_data, Criteria, Group_1, Group_2)\n",
    "    BRCA_tests = qvalue.qvalues(BRCA_tests)\n",
    "    plot_hist(BRCA_tests['p'].values, 20)\n",
    "    with pd.option_context('display.max_rows', None):\n",
    "        display(BRCA_tests)\n",
    "        \n",
    "def ORA(tests, threshold, pathway_db=['KEGG_2019_Human'], stat = 'p'):\n",
    "    background=set(tests.index)\n",
    "    gene_list = list(tests.loc[tests[stat]<threshold,stat].index)\n",
    "\n",
    "    output_enrichr=pd.DataFrame()\n",
    "    enr=gp.enrichr(\n",
    "                    gene_list=gene_list,\n",
    "                    gene_sets=pathway_db,\n",
    "                    background=background,\n",
    "                    outdir = None\n",
    "                )\n",
    "    results = enr.results[[\"P-value\",\"Overlap\",\"Term\"]].rename(columns={\"P-value\": \"p\"})\n",
    "    return qvalue.qvalues(results)\n",
    "\n",
    "pathway_db_choice = gp.get_library_name()\n",
    "\n",
    "        \n",
    "def interact_ORA(Threshold, Pathway_DB, Statistic):\n",
    "    threshold = float(threshold)\n",
    "    results = ORA(BRCA_tests, Threshold, Pathway_DataBase, stat = Statistic)\n",
    "    with pd.option_context('display.max_rows', None):\n",
    "        display(results)"
   ]
  },
  {
   "cell_type": "code",
   "execution_count": 7,
   "metadata": {},
   "outputs": [
    {
     "data": {
      "application/vnd.jupyter.widget-view+json": {
       "model_id": "91fa272b2d8644419288c8817f3b4dc7",
       "version_major": 2,
       "version_minor": 0
      },
      "text/plain": [
       "interactive(children=(Text(value='Surgical procedure first', description='Criteria'), Text(value='Simple Maste…"
      ]
     },
     "metadata": {},
     "output_type": "display_data"
    },
    {
     "data": {
      "application/vnd.jupyter.widget-view+json": {
       "model_id": "13fa8362a70e49a182ff025e46012ad8",
       "version_major": 2,
       "version_minor": 0
      },
      "text/plain": [
       "interactive(children=(Text(value='5e-2', description='Threshold'), Dropdown(description='Pathway_DB', options=…"
      ]
     },
     "metadata": {},
     "output_type": "display_data"
    },
    {
     "data": {
      "text/plain": [
       "<function __main__.interact_ORA(Threshold, Pathway_DB, Statistic)>"
      ]
     },
     "execution_count": 7,
     "metadata": {},
     "output_type": "execute_result"
    }
   ],
   "source": [
    "interact_calc(interact_multiple_gene_ttest, Criteria=Text('Surgical procedure first'), Group_1 = Text('Simple Mastectomy'), Group_2=Text('Lumpectomy'))\n",
    "interact_enrich(interact_ORA, Threshold = '5e-2' , Pathway_DB = pathway_db_choice, Statistic=['p','q'])"
   ]
  },
  {
   "cell_type": "code",
   "execution_count": 7,
   "metadata": {},
   "outputs": [],
   "source": [
    "def gsea(tests, pathway_db = 'KEGG_2019_Human' ):\n",
    "    pre_res = gp.prerank(rnk=tests['p'], \n",
    "                    gene_sets=pathway_db,\n",
    "                    processes=4,\n",
    "                    permutation_num=100, # reduce number to speed up testing\n",
    "                    outdir=None, format='png')\n",
    "    return pre_res\n",
    "\n",
    "def interact_gsea(Pathway_DB):\n",
    "    global Results_gsea\n",
    "    Results_gsea = gsea(BRCA_tests, pathway_db=Pathway_DB)\n",
    "    with pd.option_context('display.max_rows', None):\n",
    "        display(Results_gsea.res2d[['pval', 'fdr']])"
   ]
  },
  {
   "cell_type": "code",
   "execution_count": null,
   "metadata": {},
   "outputs": [],
   "source": [
    "interact_calc(interact_multiple_gene_ttest, Criteria=Text('Surgical procedure first'), Group_1 = Text('Simple Mastectomy'), Group_2=Text('Lumpectomy'))\n",
    "interact_enrich(interact_gsea, Pathway_DB = pathway_db_choice)"
   ]
  },
  {
   "cell_type": "code",
   "execution_count": null,
   "metadata": {},
   "outputs": [],
   "source": []
  },
  {
   "cell_type": "code",
   "execution_count": null,
   "metadata": {},
   "outputs": [],
   "source": []
  },
  {
   "cell_type": "markdown",
   "metadata": {},
   "source": [
    "# Machine learning, SVMs"
   ]
  },
  {
   "cell_type": "code",
   "execution_count": 76,
   "metadata": {},
   "outputs": [],
   "source": [
    "from sklearn.svm import LinearSVC\n",
    "from sklearn.preprocessing import StandardScaler\n",
    "from sklearn.metrics import confusion_matrix\n",
    "from sklearn.model_selection import train_test_split\n",
    "from sklearn.decomposition import PCA"
   ]
  },
  {
   "cell_type": "code",
   "execution_count": 94,
   "metadata": {},
   "outputs": [],
   "source": [
    "def split_data(clinical_df, expression_df, separator, cond1, cond2):\n",
    "    try:\n",
    "        group1 = clinical_df[separator] == cond1\n",
    "        index1 = clinical_df[group1].index\n",
    "        group2 = clinical_df[separator] == cond2\n",
    "        index2 = clinical_df[group2].index\n",
    "    except:\n",
    "        print('Clinical condition wrong')\n",
    "    expression1 = expression_df.loc[index1].dropna()\n",
    "    expression2 = expression_df.loc[index2].dropna()\n",
    "    expression = pd.concat([expression1, expression2])\n",
    "    X = expression.values\n",
    "    y = np.append(np.repeat(0, len(expression1)), np.repeat(1, len(expression2)))\n",
    "    return X, y\n",
    "\n",
    "def train_SVM(X, y, C=1, scale = False):\n",
    "    if scale:\n",
    "        scaler = StandardScaler()\n",
    "        X = scaler.fit_transform(X)\n",
    "    clf = LinearSVC(C=C, max_iter=10000)\n",
    "    clf.fit(X,y)\n",
    "    return clf\n",
    "\n",
    "def print_accuracy(X_train, y_train, X_test, y_test, clf):\n",
    "    y_train_pred = clf.predict(X_train)\n",
    "    ac_matrix_train = confusion_matrix(y_train, y_train_pred)\n",
    "    y_test_pred = clf.predict(X_test)\n",
    "    ac_matrix_test = confusion_matrix(y_test, y_test_pred)\n",
    "    display(pd.DataFrame(np.concatenate((ac_matrix_train,ac_matrix_test), axis =1), columns = [\"predicted G1 (training)\",\"predicted G2 (training)\", \"predicted G1 (test)\",\"predicted G2 (test)\"],index=[\"actual G1\",\"actual G2\"]))\n",
    "    \n",
    "def plot_pca_variance(X):\n",
    "    pca = PCA()\n",
    "    pca.fit(X)\n",
    "    plt.rcParams[\"figure.figsize\"] = (20,10)\n",
    "    sns.set(style='darkgrid', context='talk')\n",
    "    plt.plot(np.cumsum(pca.explained_variance_ratio_))\n",
    "    plt.xlabel('Number of components')\n",
    "    plt.ylabel('Cumulative explained variance');"
   ]
  },
  {
   "cell_type": "code",
   "execution_count": 39,
   "metadata": {},
   "outputs": [],
   "source": [
    "X, y = split_data(clinical_data, expression_data, 'Surgical procedure first', 'Simple Mastectomy', 'Lumpectomy')"
   ]
  },
  {
   "cell_type": "code",
   "execution_count": 68,
   "metadata": {},
   "outputs": [],
   "source": [
    "X_train, X_test, y_train, y_test = train_test_split(X, y, test_size=0.1)\n",
    "\n",
    "clf = train_SVM(X_train, y_train)\n"
   ]
  },
  {
   "cell_type": "code",
   "execution_count": 73,
   "metadata": {},
   "outputs": [
    {
     "data": {
      "text/html": [
       "<div>\n",
       "<style scoped>\n",
       "    .dataframe tbody tr th:only-of-type {\n",
       "        vertical-align: middle;\n",
       "    }\n",
       "\n",
       "    .dataframe tbody tr th {\n",
       "        vertical-align: top;\n",
       "    }\n",
       "\n",
       "    .dataframe thead th {\n",
       "        text-align: right;\n",
       "    }\n",
       "</style>\n",
       "<table border=\"1\" class=\"dataframe\">\n",
       "  <thead>\n",
       "    <tr style=\"text-align: right;\">\n",
       "      <th></th>\n",
       "      <th>predicted G1 (training)</th>\n",
       "      <th>predicted G2 (training)</th>\n",
       "      <th>predicted G1 (test)</th>\n",
       "      <th>predicted G2 (test)</th>\n",
       "    </tr>\n",
       "  </thead>\n",
       "  <tbody>\n",
       "    <tr>\n",
       "      <th>actual G1</th>\n",
       "      <td>112</td>\n",
       "      <td>0</td>\n",
       "      <td>6</td>\n",
       "      <td>10</td>\n",
       "    </tr>\n",
       "    <tr>\n",
       "      <th>actual G2</th>\n",
       "      <td>0</td>\n",
       "      <td>176</td>\n",
       "      <td>3</td>\n",
       "      <td>14</td>\n",
       "    </tr>\n",
       "  </tbody>\n",
       "</table>\n",
       "</div>"
      ],
      "text/plain": [
       "           predicted G1 (training)  predicted G2 (training)  \\\n",
       "actual G1                      112                        0   \n",
       "actual G2                        0                      176   \n",
       "\n",
       "           predicted G1 (test)  predicted G2 (test)  \n",
       "actual G1                    6                   10  \n",
       "actual G2                    3                   14  "
      ]
     },
     "metadata": {},
     "output_type": "display_data"
    }
   ],
   "source": [
    "\n",
    "print_accuracy(X_train, y_train, X_test, y_test, clf)"
   ]
  },
  {
   "cell_type": "code",
   "execution_count": 95,
   "metadata": {},
   "outputs": [
    {
     "data": {
      "image/png": "[encoded data removed]",
      "text/plain": [
       "<Figure size 1440x720 with 1 Axes>"
      ]
     },
     "metadata": {},
     "output_type": "display_data"
    }
   ],
   "source": [
    "plot_pca_variance(X)"
   ]
  },
  {
   "cell_type": "code",
   "execution_count": null,
   "metadata": {},
   "outputs": [],
   "source": []
  },
  {
   "cell_type": "markdown",
   "metadata": {},
   "source": [
    "# References\n",
    "\n",
    "Weinstein, John N., et al. 'The cancer genome atlas pan-cancer analysis project.' Nature genetics 45.10 (2013): 1113-1120.\n",
    "\n",
    "Patrício, Miguel, et al. “Using Resistin, Glucose, Age and BMI to Predict the Presence of Breast Cancer.” BMC Cancer, vol. 18, no. 1, Jan. 2018, p. 29. BioMed Central, doi:10.1186/s12885-017-3877-1."
   ]
  }
 ],
 "metadata": {
  "kernelspec": {
   "display_name": "Python 3",
   "language": "python",
   "name": "python3"
  },
  "language_info": {
   "codemirror_mode": {
    "name": "ipython",
    "version": 3
   },
   "file_extension": ".py",
   "mimetype": "text/x-python",
   "name": "python",
   "nbconvert_exporter": "python",
   "pygments_lexer": "ipython3",
   "version": "3.6.8"
  }
 },
 "nbformat": 4,
 "nbformat_minor": 2
}
