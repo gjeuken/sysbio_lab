{
 "cells": [
  {
   "cell_type": "markdown",
   "metadata": {},
   "source": [
    "# Unsupervised ML\n",
    "\n",
    "## Clustering\n",
    "* Cluestermap\n",
    "* K-means\n",
    "\n",
    "# Enrichment analysis usign gseapy\n",
    "\n",
    "# Supervised ML\n",
    "\n",
    "## SVM\n",
    "\n",
    "* Using known onco-genes as \n",
    "* Plot score vector\n",
    "\n",
    "## Bonus questions\n",
    "* Supervised\n",
    "\n",
    "# Other ideas\n",
    "* Classification vs regression\n",
    "* Variance vs bias\n",
    "* Overfitting\n",
    "* Precision and recall curve\n"
   ]
  },
  {
   "cell_type": "code",
   "execution_count": null,
   "metadata": {},
   "outputs": [],
   "source": []
  }
 ],
 "metadata": {
  "kernelspec": {
   "display_name": "Python 3",
   "language": "python",
   "name": "python3"
  },
  "language_info": {
   "codemirror_mode": {
    "name": "ipython",
    "version": 3
   },
   "file_extension": ".py",
   "mimetype": "text/x-python",
   "name": "python",
   "nbconvert_exporter": "python",
   "pygments_lexer": "ipython3",
   "version": "3.6.8"
  }
 },
 "nbformat": 4,
 "nbformat_minor": 2
}
