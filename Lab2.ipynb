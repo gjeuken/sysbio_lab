{
 "cells": [
  {
   "cell_type": "markdown",
   "metadata": {},
   "source": [
    "# Enrichment analysys\n",
    "### Over representation analysis\n",
    "* Simplified ilustrative example\n",
    "* Followed by real case\n",
    "### GSEA\n",
    "* Practical using python package\n",
    "\n",
    "# Supervised machine learning\n",
    "### Linear regression\n",
    "### Logistic regression\n",
    "### SVM\n",
    "### Overfitting and Bias vs Variance -> Cross validation\n",
    "### Dimentionality of the input -> PCA\n",
    "\n",
    "# Unsupervised machine learning\n",
    "### K-means clustering\n",
    "* Using TCGA data, HR+/-"
   ]
  },
  {
   "cell_type": "markdown",
   "metadata": {},
   "source": [
    "# Pathway analysis"
   ]
  },
  {
   "cell_type": "code",
   "execution_count": null,
   "metadata": {},
   "outputs": [],
   "source": [
    "import numpy as np\n",
    "import scipy as sp\n",
    "import pandas as pd\n",
    "import matplotlib.pyplot as plt\n",
    "import seaborn as sns\n",
    "import sklearn as skl\n",
    "import gseapy as gp\n",
    "from gseapy.plot import gseaplot\n",
    "import qvalue\n",
    "\n",
    "from ipywidgets import interact, interact_manual\n",
    "from ipywidgets import IntSlider, FloatSlider, Dropdown, Text\n",
    "\n",
    "interact_enrich=interact_manual.options(manual_name=\"Enrichment analysis\")\n",
    "interact_plot=interact_manual.options(manual_name=\"Plot\")\n",
    "interact_calc=interact_manual.options(manual_name=\"Calculate tests\")"
   ]
  },
  {
   "cell_type": "code",
   "execution_count": null,
   "metadata": {},
   "outputs": [],
   "source": [
    "clinical_data = pd.read_csv('data/brca_clin.tsv.gz', sep ='\\t', index_col=2)\n",
    "clinical_data = clinical_data.iloc[4:,1:]\n",
    "expression_data = pd.read_csv('data/brca.tsv.gz', sep ='\\t', index_col=1)\n",
    "expression_data = expression_data.iloc[:,2:].T"
   ]
  },
  {
   "cell_type": "code",
   "execution_count": null,
   "metadata": {},
   "outputs": [],
   "source": [
    "def differential_test(clinical_df, expression_df, separator, cond1, cond2):\n",
    "    p_vals = pd.DataFrame(columns = ['p'])\n",
    "    for gene in expression_df.columns:\n",
    "        try:\n",
    "            expression = expression_df[gene]\n",
    "        except:\n",
    "            print('Gene not found in data')\n",
    "        try:\n",
    "            group1 = clinical_df[separator] == cond1\n",
    "            index1 = clinical_df[group1].index\n",
    "            group2 = clinical_df[separator] == cond2\n",
    "            index2 = clinical_df[group2].index\n",
    "        except:\n",
    "            print('Clinical condition wrong')\n",
    "        expression1 = expression[index1].dropna()\n",
    "        expression2 = expression[index2].dropna()\n",
    "        p_val = sp.stats.ttest_ind(expression1, expression2).pvalue\n",
    "        if p_val == p_val:\n",
    "            p_vals.loc[gene,'p'] = p_val\n",
    "    return p_vals\n",
    "\n",
    "def plot_hist(stats, bins):\n",
    "    stats = np.array(stats)\n",
    "    plt.hist(stats, bins = bins)\n",
    "    plt.show()\n",
    "\n",
    "\n",
    "def interact_multiple_gene_ttest(Criteria, Group_1, Group_2):\n",
    "    global BRCA_tests\n",
    "    BRCA_tests = differential_test(clinical_data, expression_data, Criteria, Group_1, Group_2)\n",
    "    BRCA_tests = qvalue.qvalues(BRCA_tests)\n",
    "    plot_hist(BRCA_tests['p'].values, 20)\n",
    "    with pd.option_context('display.max_rows', None):\n",
    "        display(BRCA_tests)\n",
    "        \n",
    "def ORA(tests, threshold, pathway_db=['KEGG_2019_Human'], stat = 'p'):\n",
    "    background=set(tests.index)\n",
    "    gene_list = list(tests.loc[tests[stat]<threshold,stat].index)\n",
    "\n",
    "    output_enrichr=pd.DataFrame()\n",
    "    enr=gp.enrichr(\n",
    "                    gene_list=gene_list,\n",
    "                    gene_sets=pathway_db,\n",
    "                    background=background,\n",
    "                    outdir = None\n",
    "                )\n",
    "    results = enr.results[[\"P-value\",\"Overlap\",\"Term\"]].rename(columns={\"P-value\": \"p\"})\n",
    "    return qvalue.qvalues(results)\n",
    "\n",
    "pathway_db_choice = gp.get_library_name()\n",
    "\n",
    "        \n",
    "def interact_ORA(Threshold, Pathway_DB, Statistic):\n",
    "    threshold = float(threshold)\n",
    "    results = ORA(BRCA_tests, Threshold, Pathway_DataBase, stat = Statistic)\n",
    "    with pd.option_context('display.max_rows', None):\n",
    "        display(results)"
   ]
  },
  {
   "cell_type": "code",
   "execution_count": null,
   "metadata": {},
   "outputs": [],
   "source": [
    "interact_calc(interact_multiple_gene_ttest, Criteria=Text('Surgical procedure first'), Group_1 = Text('Simple Mastectomy'), Group_2=Text('Lumpectomy'))\n",
    "interact_enrich(interact_ORA, Threshold = '5e-2' , Pathway_DB = pathway_db_choice, Statistic=['p','q'])"
   ]
  },
  {
   "cell_type": "code",
   "execution_count": null,
   "metadata": {},
   "outputs": [],
   "source": [
    "def gsea(tests, pathway_db = 'KEGG_2019_Human' ):\n",
    "    pre_res = gp.prerank(rnk=tests['p'], \n",
    "                    gene_sets=pathway_db,\n",
    "                    processes=4,\n",
    "                    permutation_num=100, # reduce number to speed up testing\n",
    "                    outdir=None, format='png')\n",
    "    return pre_res\n",
    "\n",
    "def interact_gsea(Pathway_DB):\n",
    "    global Results_gsea\n",
    "    Results_gsea = gsea(BRCA_tests, pathway_db=Pathway_DB)\n",
    "    with pd.option_context('display.max_rows', None):\n",
    "        display(Results_gsea.res2d[['pval', 'fdr']])"
   ]
  },
  {
   "cell_type": "code",
   "execution_count": null,
   "metadata": {},
   "outputs": [],
   "source": [
    "interact_calc(interact_multiple_gene_ttest, Criteria=Text('Surgical procedure first'), Group_1 = Text('Simple Mastectomy'), Group_2=Text('Lumpectomy'))\n",
    "interact_enrich(interact_gsea, Pathway_DB = pathway_db_choice)"
   ]
  },
  {
   "cell_type": "code",
   "execution_count": null,
   "metadata": {},
   "outputs": [],
   "source": [
    "terms = Results_gsea.res2d.index[0]\n",
    "\n",
    "gseaplot(rank_metric=Results_gsea.ranking, term=terms, **Results_gsea.results[terms])"
   ]
  },
  {
   "cell_type": "code",
   "execution_count": null,
   "metadata": {},
   "outputs": [],
   "source": [
    "Results_gsea.results['Primary bile acid biosynthesis_Homo sapiens_hsa00120']\n",
    "Results_gsea.ranking"
   ]
  },
  {
   "cell_type": "markdown",
   "metadata": {},
   "source": [
    "# Machine learning, SVMs"
   ]
  },
  {
   "cell_type": "code",
   "execution_count": null,
   "metadata": {},
   "outputs": [],
   "source": []
  },
  {
   "cell_type": "code",
   "execution_count": null,
   "metadata": {},
   "outputs": [],
   "source": []
  },
  {
   "cell_type": "code",
   "execution_count": null,
   "metadata": {},
   "outputs": [],
   "source": []
  },
  {
   "cell_type": "code",
   "execution_count": null,
   "metadata": {},
   "outputs": [],
   "source": []
  },
  {
   "cell_type": "code",
   "execution_count": null,
   "metadata": {},
   "outputs": [],
   "source": []
  },
  {
   "cell_type": "markdown",
   "metadata": {},
   "source": [
    "# References\n",
    "\n",
    "Weinstein, John N., et al. 'The cancer genome atlas pan-cancer analysis project.' Nature genetics 45.10 (2013): 1113-1120.\n",
    "\n",
    "Patrício, Miguel, et al. “Using Resistin, Glucose, Age and BMI to Predict the Presence of Breast Cancer.” BMC Cancer, vol. 18, no. 1, Jan. 2018, p. 29. BioMed Central, doi:10.1186/s12885-017-3877-1."
   ]
  }
 ],
 "metadata": {
  "kernelspec": {
   "display_name": "Python 3",
   "language": "python",
   "name": "python3"
  },
  "language_info": {
   "codemirror_mode": {
    "name": "ipython",
    "version": 3
   },
   "file_extension": ".py",
   "mimetype": "text/x-python",
   "name": "python",
   "nbconvert_exporter": "python",
   "pygments_lexer": "ipython3",
   "version": "3.6.8"
  }
 },
 "nbformat": 4,
 "nbformat_minor": 2
}
