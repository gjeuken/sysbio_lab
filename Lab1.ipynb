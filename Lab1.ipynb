{
 "cells": [
  {
   "cell_type": "markdown",
   "metadata": {},
   "source": [
    "# Lab 1 - Differential Expression analysis\n",
    "## Differential expression analysis, an intuition"
   ]
  },
  {
   "cell_type": "code",
   "execution_count": 2,
   "metadata": {
    "scrolled": false
   },
   "outputs": [],
   "source": [
    "import pandas as pd\n",
    "import numpy as np\n",
    "import scipy as sp\n",
    "import seaborn as sns\n",
    "import matplotlib.pyplot as plt\n",
    "from ipywidgets import interact, interact_manual\n",
    "from ipywidgets import IntSlider, FloatSlider\n",
    "\n",
    "interact_gen=interact_manual.options(manual_name=\"Generate data\")\n",
    "interact_plot=interact_manual.options(manual_name=\"Plot\")"
   ]
  },
  {
   "cell_type": "code",
   "execution_count": 3,
   "metadata": {},
   "outputs": [],
   "source": [
    "def generate_data(distance,dispersion, n_points):\n",
    "    dispersion = [[dispersion,0],[0,dispersion]]\n",
    "    cond1 = np.random.multivariate_normal([0,0], dispersion, n_points)\n",
    "    cond2 = np.random.multivariate_normal([distance,0], dispersion, n_points)\n",
    "    data1 = pd.DataFrame(cond1, columns=['x','y'])\n",
    "    data1['Condition'] = 1\n",
    "    data2 = pd.DataFrame(cond2, columns=['x','y'])\n",
    "    data2['Condition'] = 2\n",
    "    data = pd.concat([data1,data2])\n",
    "    return data\n",
    "\n",
    "def generate_h0(distance,dispersion, n_points):\n",
    "    dispersion = [[dispersion + (distance/2)**2,0],[0,dispersion]]\n",
    "    cond1 = np.random.multivariate_normal([distance/2,0], dispersion, n_points)\n",
    "    cond2 = np.random.multivariate_normal([distance/2,0], dispersion, n_points)\n",
    "    data1 = pd.DataFrame(cond1, columns=['x','y'])\n",
    "    data1['Condition'] = 1\n",
    "    data2 = pd.DataFrame(cond2, columns=['x','y'])\n",
    "    data2['Condition'] = 2\n",
    "    data = pd.concat([data1,data2])\n",
    "    return data\n",
    "\n",
    "def plot_random(data,data_s):\n",
    "    f, ax = plt.subplots(1, 2)\n",
    "    r1 = np.random.permutation(2)\n",
    "    colors = np.random.permutation(['red','blue']).tolist()\n",
    "    sns.scatterplot(x='x', y='y', data=data, hue = 'Condition', palette=colors, ax = ax[r1[0]], legend  = False)\n",
    "    sns.scatterplot(x='x', y='y', data=data_s, hue = 'Condition', palette=colors, ax = ax[r1[1]], legend = False)\n",
    "\n",
    "def dist_plot(Distance,Dispersion,Samples):\n",
    "    plt.rcParams[\"figure.figsize\"] = (20,10)\n",
    "    data = generate_data(Distance,Dispersion, Samples)\n",
    "    data_s = generate_h0(Distance,Dispersion, Samples)\n",
    "    plot_random(data,data_s)\n",
    "    plt.show()"
   ]
  },
  {
   "cell_type": "code",
   "execution_count": 4,
   "metadata": {},
   "outputs": [
    {
     "data": {
      "application/vnd.jupyter.widget-view+json": {
       "model_id": "0a9fadc2784c45e5a72655264c0b41f7",
       "version_major": 2,
       "version_minor": 0
      },
      "text/plain": [
       "interactive(children=(FloatSlider(value=0.0, continuous_update=False, description='Distance', max=10.0), Float…"
      ]
     },
     "metadata": {},
     "output_type": "display_data"
    },
    {
     "data": {
      "text/plain": [
       "<function __main__.dist_plot(Distance, Dispersion, Samples)>"
      ]
     },
     "execution_count": 4,
     "metadata": {},
     "output_type": "execute_result"
    }
   ],
   "source": [
    "interact(dist_plot, Distance = FloatSlider(min=0,max=10, continuous_update=False), Dispersion = FloatSlider(min=0,max=100, continuous_update=False), Samples=IntSlider(min=5,max=100, continuous_update=False))"
   ]
  },
  {
   "cell_type": "markdown",
   "metadata": {},
   "source": [
    "### Questions"
   ]
  },
  {
   "cell_type": "markdown",
   "metadata": {},
   "source": [
    "## The t-test"
   ]
  },
  {
   "cell_type": "code",
   "execution_count": 6,
   "metadata": {},
   "outputs": [],
   "source": [
    "def plot_random_ttest(data,data_s):\n",
    "    plt.rcParams[\"figure.figsize\"] = (20,10)\n",
    "    cond1 = data[data['Condition'] == 1]\n",
    "    cond2 = data[data['Condition'] == 2]\n",
    "    cond1_s = data_s[data_s['Condition'] == 1]\n",
    "    cond2_s = data_s[data_s['Condition'] == 2]\n",
    "    ttestp = sp.stats.ttest_ind(cond1, cond2).pvalue[0]\n",
    "    ttestp_s= sp.stats.ttest_ind(cond1_s, cond2_s).pvalue[0]\n",
    "    f, ax = plt.subplots(1, 2)\n",
    "    r1 = np.random.permutation(2)\n",
    "    colors = np.random.permutation(['red','blue']).tolist()\n",
    "    sns.scatterplot(x='x', y='y', data=data, hue = 'Condition', palette=colors, ax = ax[r1[0]], legend  = False)\n",
    "    ax[r1[0]].set_title('p = ' + str(np.round(ttestp, 5)))\n",
    "    sns.scatterplot(x='x', y='y', data=data_s, hue = 'Condition', palette=colors, ax = ax[r1[1]], legend = False)\n",
    "    ax[r1[1]].set_title('p = ' + str(np.round(ttestp_s,5)))\n",
    "    \n",
    "\n",
    "def dist_plot_ttest(Distance,Dispersion,Samples):\n",
    "    plt.rcParams[\"figure.figsize\"] = (20,10)\n",
    "    data = generate_data(Distance,Dispersion, Samples)\n",
    "    data_s = generate_h0(Distance,Dispersion, Samples)\n",
    "    plot_random_ttest(data,data_s)\n",
    "    plt.show()"
   ]
  },
  {
   "cell_type": "code",
   "execution_count": 7,
   "metadata": {},
   "outputs": [
    {
     "data": {
      "application/vnd.jupyter.widget-view+json": {
       "model_id": "b8091c5f81814c8db555ec5ab3497afc",
       "version_major": 2,
       "version_minor": 0
      },
      "text/plain": [
       "interactive(children=(FloatSlider(value=0.0, continuous_update=False, description='Distance', max=10.0), Float…"
      ]
     },
     "metadata": {},
     "output_type": "display_data"
    },
    {
     "data": {
      "text/plain": [
       "<function __main__.dist_plot_ttest(Distance, Dispersion, Samples)>"
      ]
     },
     "execution_count": 7,
     "metadata": {},
     "output_type": "execute_result"
    }
   ],
   "source": [
    "interact(dist_plot_ttest, Distance = FloatSlider(min=0,max=10, continuous_update=False), Dispersion = FloatSlider(min=0,max=100, continuous_update=False), Samples=IntSlider(min=5,max=100, continuous_update=False))"
   ]
  },
  {
   "cell_type": "markdown",
   "metadata": {},
   "source": [
    "Questions: \n",
    "* What assumptions about the data doest the t-test make?\n",
    "* Are they compatible with gene expression data? If not, how to go around it? "
   ]
  },
  {
   "cell_type": "markdown",
   "metadata": {},
   "source": [
    "## Exercise, differential gene expression analysis"
   ]
  },
  {
   "cell_type": "markdown",
   "metadata": {},
   "source": [
    "## Multiple hypothesis"
   ]
  },
  {
   "cell_type": "code",
   "execution_count": 9,
   "metadata": {},
   "outputs": [],
   "source": [
    "def multiple_tests(distance,dispersion, n_points, n_tests):\n",
    "    h0_stats = []\n",
    "    h1_stats = []\n",
    "    for i in range(n_tests):\n",
    "        data = generate_data(distance,dispersion, n_points)\n",
    "        data_h0 = generate_h0(distance,dispersion, n_points)\n",
    "        cond1 = data[data['Condition'] == 1]\n",
    "        cond2 = data[data['Condition'] == 2]\n",
    "        cond1_s = data_h0[data_h0['Condition'] == 1]\n",
    "        cond2_s = data_h0[data_h0['Condition'] == 2]\n",
    "        ttestp = sp.stats.ttest_ind(cond1, cond2).pvalue[0]\n",
    "        ttestp_s= sp.stats.ttest_ind(cond1_s, cond2_s).pvalue[0]\n",
    "        h0_stats.append(ttestp_s)\n",
    "        h1_stats.append(ttestp)\n",
    "    return h0_stats, h1_stats\n",
    "\n",
    "def plot_hist(h0_stats, h1_stats, bins):\n",
    "    plt.rcParams[\"figure.figsize\"] = (20,10)\n",
    "    f, ax = plt.subplots(1, 2)\n",
    "    sns.distplot(h0_stats, bins = bins, ax = ax[0], kde=False, hist_kws={\"range\": [0,1]})\n",
    "    sns.distplot(h1_stats, bins = bins, ax = ax[1], kde=False, hist_kws={\"range\": [0,1]})\n",
    "    #ax[0].hist(h0_stats, bins = bins)\n",
    "    #ax[1].hist(h1_stats, bins = bins)\n",
    "    ax[0].set_title('H0')\n",
    "    ax[0].set_xlim([0,1])\n",
    "    ax[1].set_title('H1')\n",
    "    ax[1].set_xlim([0,1])\n",
    "    plt.show()\n",
    "    \n",
    "def plot_hist_comb(h0_stats, h1_stats, bins, threshold):\n",
    "    plt.rcParams[\"figure.figsize\"] = (20,10)\n",
    "    f, ax = plt.subplots(1, 2)\n",
    "    ax[0].hist([h0_stats, h1_stats], bins = bins, stacked = True)\n",
    "    ax[0].vlines(threshold, 0, max(np.histogram([h0_stats,h1_stats], bins=bins)[0]), color='r', linestyles = 'dashed')\n",
    "    stats = pd.DataFrame(h1_stats + h0_stats, columns = ['p'])\n",
    "    stats['h'] = np.repeat(1,len(h1_stats)).tolist() + np.repeat(0,len(h0_stats)).tolist()\n",
    "    stats['good'] = (stats['p'] <= threshold)*1\n",
    "    stats = stats.sort_values('p')\n",
    "    stack1 = stats['h']\n",
    "    stack2 = stats['good']\n",
    "    side = np.ceil(np.sqrt(len(stack1))).astype(int)\n",
    "    pad1 = np.zeros(side*side)+9\n",
    "    pad2 = np.zeros(side*side)+9\n",
    "    pad1[:len(stack1)]=stack1\n",
    "    pad2[:len(stack1)]=stack2 * 5\n",
    "    ax[1].imshow(pad1.reshape(side,side), cmap = 'Set1')\n",
    "    ax[1].imshow(pad2.reshape(side,side), cmap = 'Set1', alpha = 0.4)\n",
    "    plt.show()\n",
    "    \n",
    "def plot_hist_pi0(h0_stats, h1_stats, bins, threshold, pi0):\n",
    "    plt.rcParams[\"figure.figsize\"] = (20,10)\n",
    "    plt.hist([h0_stats, h1_stats], bins = bins, stacked = True)\n",
    "    plt.vlines(threshold, 0, max(np.histogram([h0_stats,h1_stats], bins=bins)[0]), color='r', linestyles = 'dashed')\n",
    "    plt.hlines(pi0,0,1 color='q', linestyles = 'dashed')\n",
    "    stats = pd.DataFrame(h1_stats + h0_stats, columns = ['p'])\n",
    "    stats['h'] = np.repeat(1,len(h1_stats)).tolist() + np.repeat(0,len(h0_stats)).tolist()\n",
    "    stats = stats.loc[stats['p'] <= threshold]\n",
    "    fdr_true = sum(stats['h'])/len(stats['h'])\n",
    "    fdr_est = \n",
    "    plt.show()\n",
    "    \n",
    "def interactive_generate(Distance, Dispersion, Samples, Tests):\n",
    "    global G_h0_results, G_h1_results\n",
    "    G_h0_results, G_h1_results = multiple_tests(Distance,Dispersion, Samples, Tests)\n",
    "    \n",
    "def interactive_double_hist(Bins):\n",
    "    plot_hist(G_h0_results, G_h1_results, Bins)\n",
    "\n",
    "def interactive_plot_hist_comb(Bins, Threshold):\n",
    "    plot_hist_comb(G_h0_results, G_h1_results, Bins, Threshold)"
   ]
  },
  {
   "cell_type": "code",
   "execution_count": 10,
   "metadata": {
    "scrolled": false
   },
   "outputs": [
    {
     "data": {
      "application/vnd.jupyter.widget-view+json": {
       "model_id": "0fbc224356b1424fb1fa670684e50052",
       "version_major": 2,
       "version_minor": 0
      },
      "text/plain": [
       "interactive(children=(FloatSlider(value=0.0, description='Distance', max=10.0), FloatSlider(value=1.0, descrip…"
      ]
     },
     "metadata": {},
     "output_type": "display_data"
    },
    {
     "data": {
      "application/vnd.jupyter.widget-view+json": {
       "model_id": "2e144567fd1948e8bf95dff7011ae2bc",
       "version_major": 2,
       "version_minor": 0
      },
      "text/plain": [
       "interactive(children=(IntSlider(value=10, continuous_update=False, description='Bins', min=10, step=10), Butto…"
      ]
     },
     "metadata": {},
     "output_type": "display_data"
    },
    {
     "data": {
      "text/plain": [
       "<function __main__.interactive_double_hist(Bins)>"
      ]
     },
     "execution_count": 10,
     "metadata": {},
     "output_type": "execute_result"
    }
   ],
   "source": [
    "interactive_generate(1, 1, 3, 100)\n",
    "interact_gen(interactive_generate, Distance = FloatSlider(min=0.0,max=10.0), Dispersion = FloatSlider(min=1.0,max=100.0), Samples = IntSlider(min=5,max=100), Tests = IntSlider(min=5,max=1000))\n",
    "interact_plot(interactive_double_hist, Bins=IntSlider(min=10,max=100, step = 10, continuous_update=False))"
   ]
  },
  {
   "cell_type": "markdown",
   "metadata": {},
   "source": [
    "## Calculating FDR"
   ]
  },
  {
   "cell_type": "code",
   "execution_count": 11,
   "metadata": {},
   "outputs": [
    {
     "data": {
      "application/vnd.jupyter.widget-view+json": {
       "model_id": "0d67aeb9b7594859b549a79e98eecd9f",
       "version_major": 2,
       "version_minor": 0
      },
      "text/plain": [
       "interactive(children=(FloatSlider(value=0.0, description='Distance', max=10.0), FloatSlider(value=0.0, descrip…"
      ]
     },
     "metadata": {},
     "output_type": "display_data"
    },
    {
     "data": {
      "application/vnd.jupyter.widget-view+json": {
       "model_id": "1eeaa4258a81407d9032a248dd24aa26",
       "version_major": 2,
       "version_minor": 0
      },
      "text/plain": [
       "interactive(children=(IntSlider(value=10, continuous_update=False, description='Bins', min=10, step=10), Float…"
      ]
     },
     "metadata": {},
     "output_type": "display_data"
    },
    {
     "data": {
      "text/plain": [
       "<function __main__.interactive_plot_hist_comb(Bins, Threshold)>"
      ]
     },
     "execution_count": 11,
     "metadata": {},
     "output_type": "execute_result"
    }
   ],
   "source": [
    "interact_gen(interactive_generate, Distance = FloatSlider(min=0.0,max=10.0), Dispersion = FloatSlider(min=0.0,max=100.0), Samples = IntSlider(min=0,max=100), Tests = IntSlider(min=0,max=1000))\n",
    "interact(interactive_plot_hist_comb, Threshold = FloatSlider(min=0,max=0.5, step = 0.01, continuous_update=False), Bins=IntSlider(min=10,max=100, step = 10, continuous_update=False))"
   ]
  },
  {
   "cell_type": "code",
   "execution_count": null,
   "metadata": {},
   "outputs": [],
   "source": []
  },
  {
   "cell_type": "markdown",
   "metadata": {},
   "source": [
    "## Exercise"
   ]
  },
  {
   "cell_type": "markdown",
   "metadata": {},
   "source": [
    "## Volcano plot"
   ]
  },
  {
   "cell_type": "code",
   "execution_count": null,
   "metadata": {},
   "outputs": [],
   "source": []
  },
  {
   "cell_type": "code",
   "execution_count": null,
   "metadata": {},
   "outputs": [],
   "source": []
  },
  {
   "cell_type": "code",
   "execution_count": null,
   "metadata": {},
   "outputs": [],
   "source": []
  },
  {
   "cell_type": "code",
   "execution_count": null,
   "metadata": {},
   "outputs": [],
   "source": []
  }
 ],
 "metadata": {
  "kernelspec": {
   "display_name": "Python 3",
   "language": "python",
   "name": "python3"
  },
  "language_info": {
   "codemirror_mode": {
    "name": "ipython",
    "version": 3
   },
   "file_extension": ".py",
   "mimetype": "text/x-python",
   "name": "python",
   "nbconvert_exporter": "python",
   "pygments_lexer": "ipython3",
   "version": "3.6.8"
  }
 },
 "nbformat": 4,
 "nbformat_minor": 2
}
